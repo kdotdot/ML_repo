{
 "cells": [
  {
   "cell_type": "code",
   "execution_count": 153,
   "metadata": {},
   "outputs": [],
   "source": [
    "import pandas as pd\n",
    "import numpy as np\n",
    "import torch\n",
    "import torch.nn as nn\n",
    "import torch.nn.functional as F\n",
    "import matplotlib.pyplot as plt\n",
    "import math\n",
    "from mnist import MNIST"
   ]
  },
  {
   "cell_type": "code",
   "execution_count": 140,
   "metadata": {},
   "outputs": [
    {
     "name": "stdout",
     "output_type": "stream",
     "text": [
      "(468, 128, 1, 28, 28) (78, 128, 1, 28, 28)\n",
      "(59904,) (9984,)\n"
     ]
    }
   ],
   "source": [
    "mndata = MNIST('/home/carlosg/Carlos/ML_repo/MNIST pytorch classifier')\n",
    "\n",
    "train_images, train_labels = mndata.load_training()\n",
    "# or\n",
    "test_images, test_labels = mndata.load_testing()\n",
    "BS = 128\n",
    "\n",
    "train_images = np.array(train_images).reshape(-1, 1,28,28)\n",
    "train_labels = np.array(train_labels)\n",
    "test_images = np.array(test_images).reshape(-1, 1,28,28)\n",
    "test_labels = np.array(test_labels)\n",
    "# \n",
    "# N of variables to be removed to fit batch size\n",
    "n_train_del = train_images.shape[0]%BS\n",
    "train_i_del = np.random.choice(train_images.shape[0], size=n_train_del, replace=False)\n",
    "n_test_del = test_images.shape[0]%BS\n",
    "test_i_del = np.random.choice(test_images.shape[0], size=n_test_del, replace=False)\n",
    "train_images = np.delete(train_images,obj=train_i_del,axis=0)\n",
    "train_labels = np.delete(train_labels,obj=train_i_del,axis=0)\n",
    "test_images = np.delete(test_images,obj=test_i_del,axis=0)\n",
    "test_labels = np.delete(test_labels,obj=test_i_del,axis=0)\n",
    "train_images = train_images.reshape(int(train_images.shape[0]/128),128,1,28,28)\n",
    "test_images = test_images.reshape(int(test_images.shape[0]/128),128,1,28,28)\n",
    "print(train_images.shape,test_images.shape)\n",
    "print(train_labels.shape,test_labels.shape)"
   ]
  },
  {
   "cell_type": "code",
   "execution_count": 170,
   "metadata": {},
   "outputs": [
    {
     "name": "stdout",
     "output_type": "stream",
     "text": [
      "This is a 3\n"
     ]
    },
    {
     "data": {
      "image/png": "[encoded data removed]",
      "text/plain": [
       "<Figure size 432x288 with 1 Axes>"
      ]
     },
     "metadata": {
      "needs_background": "light"
     },
     "output_type": "display_data"
    }
   ],
   "source": [
    "from matplotlib.pyplot import imshow \n",
    "hehe = math.ceil(np.random.rand(1)[0]*train_images.shape[0])\n",
    "imshow(np.array(train_images[hehe][0][0]))\n",
    "print(f'This is a {train_labels[hehe*BS]}')"
   ]
  },
  {
   "cell_type": "code",
   "execution_count": 145,
   "metadata": {},
   "outputs": [],
   "source": [
    "# Model\n",
    "class CNNXD(nn.Module):\n",
    "    def __init__(self):\n",
    "        super(CNNXD,self).__init__()\n",
    "        self.conv1 = nn.Conv2d(1, 32, kernel_size=5)\n",
    "        self.conv2 = nn.Conv2d(32, 32, kernel_size=5)\n",
    "        self.conv3 = nn.Conv2d(32, 64, kernel_size=5)\n",
    "        self.lin1 = nn.Linear(3*3*64,256)\n",
    "        self.lin2 = nn.Linear(256,10)\n",
    "    \n",
    "    def forward(self,x):\n",
    "        x = self.conv1(x)\n",
    "        x = F.relu(x)\n",
    "        x = F.dropout(x, p=0.5, training=self.training)\n",
    "        x = self.conv2(x)\n",
    "        x = F.max_pool2d(x,2)\n",
    "        x = F.relu(x)\n",
    "        x = F.dropout(x, p=0.5, training=self.training)\n",
    "        x = self.conv3(x)\n",
    "        x = F.max_pool2d(x,2)\n",
    "        x = F.relu(x)\n",
    "        x = F.dropout(x, p=0.5, training=self.training)\n",
    "        x = F.relu(x)\n",
    "        x = x.view(-1,3*3*64 )\n",
    "        x = self.lin1(x)\n",
    "        x = F.relu(x)\n",
    "        x = F.dropout(x, training=self.training)\n",
    "        x = self.lin2(x)\n",
    "        return x\n"
   ]
  },
  {
   "cell_type": "code",
   "execution_count": 127,
   "metadata": {},
   "outputs": [
    {
     "data": {
      "text/plain": [
       "(468, 128, 1, 28, 28)"
      ]
     },
     "execution_count": 127,
     "metadata": {},
     "output_type": "execute_result"
    }
   ],
   "source": [
    "train_images.shape"
   ]
  },
  {
   "cell_type": "code",
   "execution_count": 177,
   "metadata": {},
   "outputs": [
    {
     "name": "stdout",
     "output_type": "stream",
     "text": [
      "Loss: 0.25391602516174316 | Test accuracy:0.9375\n"
     ]
    }
   ],
   "source": [
    "model = CNNXD()\n",
    "# Train\n",
    "loss_funct = nn.CrossEntropyLoss()\n",
    "optimizer = torch.optim.Adam(model.parameters())\n",
    "# optimizer = torch.optim.SGD(model.parameters(), lr=0.001)\n",
    "model.train()\n",
    "losses = []\n",
    "for i,batch in enumerate(train_images):\n",
    "    X = torch.Tensor(batch).float()\n",
    "    Y = torch.Tensor(train_labels[i*BS:(i+1)*BS]).long()\n",
    "    optimizer.zero_grad()\n",
    "    out = model(X)\n",
    "    loss = loss_funct(out, Y) #The loss funct. does not only input the predicted output but all of the output\n",
    "    losses.append(loss.item())\n",
    "    predictions = torch.stack([t.max(0).indices for t in out])\n",
    "    accuracy = (predictions==Y).sum().item()/BS\n",
    "    loss.backward()\n",
    "    optimizer.step()\n",
    "print(f'Loss: {loss} | Test accuracy:{accuracy}')    \n"
   ]
  },
  {
   "cell_type": "code",
   "execution_count": 178,
   "metadata": {},
   "outputs": [
    {
     "data": {
      "text/plain": [
       "[<matplotlib.lines.Line2D at 0x7f46def6ea30>]"
      ]
     },
     "execution_count": 178,
     "metadata": {},
     "output_type": "execute_result"
    },
    {
     "data": {
      "image/png": "[encoded data removed]",
      "text/plain": [
       "<Figure size 432x288 with 1 Axes>"
      ]
     },
     "metadata": {
      "needs_background": "light"
     },
     "output_type": "display_data"
    }
   ],
   "source": [
    "plt.plot(losses)"
   ]
  },
  {
   "cell_type": "code",
   "execution_count": 185,
   "metadata": {},
   "outputs": [
    {
     "name": "stdout",
     "output_type": "stream",
     "text": [
      "Eval. accuracy:0.9728565705128205\n"
     ]
    }
   ],
   "source": [
    "# Eval\n",
    "model.eval()\n",
    "X = torch.Tensor(test_images.reshape(test_images.shape[0]*test_images.shape[1],1,28,28)).float()\n",
    "Y = torch.Tensor(test_labels).long()\n",
    "out = model(X)\n",
    "predictions = torch.stack([t.max(0).indices for t in out])\n",
    "accuracy = (predictions==Y).sum().item()/Y.shape[0]\n",
    "print(f'Eval. accuracy:{accuracy}')  "
   ]
  },
  {
   "cell_type": "code",
   "execution_count": 316,
   "metadata": {},
   "outputs": [
    {
     "name": "stdout",
     "output_type": "stream",
     "text": [
      "I think this is a 0\n"
     ]
    },
    {
     "data": {
      "image/png": "[encoded data removed]",
      "text/plain": [
       "<Figure size 432x288 with 1 Axes>"
      ]
     },
     "metadata": {
      "needs_background": "light"
     },
     "output_type": "display_data"
    }
   ],
   "source": [
    "model.eval()\n",
    "haha = math.ceil(np.random.rand(1)[0]*test_images.shape[0])\n",
    "X = torch.Tensor(test_images[haha][0].reshape(1,1,28,28)).float()\n",
    "out = model(X)\n",
    "predictions = torch.stack([t.max(0).indices for t in out])\n",
    "predictions.item()\n",
    "imshow(np.array(test_images[haha][0][0]))\n",
    "print(f'I think this is a {test_labels[haha*BS]}')"
   ]
  }
 ],
 "metadata": {
  "kernelspec": {
   "display_name": "Python (base env)",
   "language": "python",
   "name": "basenv"
  },
  "language_info": {
   "codemirror_mode": {
    "name": "ipython",
    "version": 3
   },
   "file_extension": ".py",
   "mimetype": "text/x-python",
   "name": "python",
   "nbconvert_exporter": "python",
   "pygments_lexer": "ipython3",
   "version": "3.8.3"
  }
 },
 "nbformat": 4,
 "nbformat_minor": 4
}
