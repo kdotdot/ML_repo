{
 "cells": [
  {
   "cell_type": "code",
   "execution_count": 19,
   "metadata": {},
   "outputs": [],
   "source": [
    "import pandas as pd\n",
    "import numpy as np\n",
    "import torch\n",
    "import torch.nn as nn\n",
    "import matplotlib.pyplot as plt"
   ]
  },
  {
   "cell_type": "code",
   "execution_count": 2,
   "metadata": {},
   "outputs": [],
   "source": [
    "from mnist import MNIST\n",
    "\n",
    "mndata = MNIST('/home/carlosg/Carlos/python/mnist')\n",
    "\n",
    "train_images, train_labels = mndata.load_training()\n",
    "# or\n",
    "test_images, test_labels = mndata.load_testing()"
   ]
  },
  {
   "cell_type": "code",
   "execution_count": 3,
   "metadata": {},
   "outputs": [],
   "source": [
    "train_images = np.array(train_images)\n",
    "train_labels = np.array(train_labels)\n",
    "test_images = np.array(test_images)\n",
    "test_labels = np.array(test_labels)"
   ]
  },
  {
   "cell_type": "code",
   "execution_count": 4,
   "metadata": {},
   "outputs": [
    {
     "data": {
      "text/plain": [
       "<matplotlib.image.AxesImage at 0x7f89ed5c8dc0>"
      ]
     },
     "execution_count": 4,
     "metadata": {},
     "output_type": "execute_result"
    },
    {
     "data": {
      "image/png": "[encoded data removed]",
      "text/plain": [
       "<Figure size 432x288 with 1 Axes>"
      ]
     },
     "metadata": {
      "needs_background": "light"
     },
     "output_type": "display_data"
    }
   ],
   "source": [
    "from matplotlib.pyplot import imshow \n",
    "imshow(np.array(train_images[0]).reshape(28,28))\n",
    "# train_images[0]"
   ]
  },
  {
   "cell_type": "code",
   "execution_count": 45,
   "metadata": {},
   "outputs": [],
   "source": [
    "# Model\n",
    "class CACAnet(nn.Module):\n",
    "    def __init__(self):\n",
    "        super(CACAnet,self).__init__()\n",
    "        self.lin1 = nn.Linear(784,128)\n",
    "        self.act = nn.ReLU()\n",
    "        self.lin2 = nn.Linear(128,10)\n",
    "    \n",
    "    def forward(self,x):\n",
    "        x = self.lin1(x)\n",
    "        x = self.act(x)\n",
    "        x = self.lin2(x)\n",
    "        return x\n"
   ]
  },
  {
   "cell_type": "code",
   "execution_count": 52,
   "metadata": {},
   "outputs": [
    {
     "name": "stdout",
     "output_type": "stream",
     "text": [
      "Loss: 0.6520291566848755 | Test accuracy:0.8828125\n"
     ]
    }
   ],
   "source": [
    "model = CACAnet()\n",
    "# Train\n",
    "loss_funct = nn.CrossEntropyLoss()\n",
    "optimizer = torch.optim.Adam(model.parameters())\n",
    "# optimizer = torch.optim.SGD(model.parameters(), lr=0.001)\n",
    "BS = 128\n",
    "model.train()\n",
    "losses = []\n",
    "for i in range(100):\n",
    "    samp = np.random.randint(0,train_images.shape[0], size=BS)\n",
    "    X = torch.Tensor(train_images[samp]).float()\n",
    "    Y = torch.Tensor(train_labels[samp]).long()\n",
    "    optimizer.zero_grad()\n",
    "    out = model(X)\n",
    "    loss = loss_funct(out, Y) #The loss funct. does not only input the predicted output but all of the output\n",
    "    losses.append(loss.item())\n",
    "    predictions = torch.stack([t.max(0).indices for t in out])\n",
    "    accuracy = (predictions==Y).sum().item()/BS\n",
    "    loss.backward()\n",
    "    optimizer.step()\n",
    "print(f'Loss: {loss} | Test accuracy:{accuracy}')    \n"
   ]
  },
  {
   "cell_type": "code",
   "execution_count": 53,
   "metadata": {},
   "outputs": [
    {
     "data": {
      "text/plain": [
       "[<matplotlib.lines.Line2D at 0x7f89eb21daf0>]"
      ]
     },
     "execution_count": 53,
     "metadata": {},
     "output_type": "execute_result"
    },
    {
     "data": {
      "image/png": "[encoded data removed]",
      "text/plain": [
       "<Figure size 432x288 with 1 Axes>"
      ]
     },
     "metadata": {
      "needs_background": "light"
     },
     "output_type": "display_data"
    }
   ],
   "source": [
    "plt.plot(losses)"
   ]
  },
  {
   "cell_type": "code",
   "execution_count": 54,
   "metadata": {},
   "outputs": [
    {
     "name": "stdout",
     "output_type": "stream",
     "text": [
      "Eval. accuracy:0.8875\n"
     ]
    }
   ],
   "source": [
    "# Eval\n",
    "model.eval()\n",
    "X = torch.Tensor(test_images).float()\n",
    "Y = torch.Tensor(test_labels).long()\n",
    "out = model(X)\n",
    "predictions = torch.stack([t.max(0).indices for t in out])\n",
    "accuracy = (predictions==Y).sum().item()/Y.shape[0]\n",
    "print(f'Eval. accuracy:{accuracy}')  "
   ]
  }
 ],
 "metadata": {
  "kernelspec": {
   "display_name": "Python (base env)",
   "language": "python",
   "name": "basenv"
  },
  "language_info": {
   "codemirror_mode": {
    "name": "ipython",
    "version": 3
   },
   "file_extension": ".py",
   "mimetype": "text/x-python",
   "name": "python",
   "nbconvert_exporter": "python",
   "pygments_lexer": "ipython3",
   "version": "3.8.3"
  }
 },
 "nbformat": 4,
 "nbformat_minor": 4
}
