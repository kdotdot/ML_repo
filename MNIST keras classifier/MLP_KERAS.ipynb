{
 "cells": [
  {
   "cell_type": "code",
   "execution_count": 1,
   "metadata": {},
   "outputs": [],
   "source": [
    "import numpy as np\n",
    "from tensorflow import keras\n",
    "from tensorflow.keras import layers\n",
    "from einops import rearrange, reduce, repeat"
   ]
  },
  {
   "cell_type": "code",
   "execution_count": 8,
   "metadata": {},
   "outputs": [
    {
     "name": "stdout",
     "output_type": "stream",
     "text": [
      "Train shape: (60000, 784) Test shape:(10000, 784)\n"
     ]
    }
   ],
   "source": [
    "(x_train, y_train), (x_test, y_test) = keras.datasets.mnist.load_data()\n",
    "x_train = x_train.astype(\"float32\") / 255 # Why normalize?\n",
    "x_test = x_test.astype(\"float32\") / 255\n",
    "x_train = rearrange(x_train,'b h w -> b (h w)')\n",
    "x_test = rearrange(x_test,'b h w -> b (h w)')\n",
    "\n",
    "print(f'Train shape: {x_train.shape} Test shape:{x_test.shape}')"
   ]
  },
  {
   "cell_type": "code",
   "execution_count": 9,
   "metadata": {},
   "outputs": [
    {
     "name": "stdout",
     "output_type": "stream",
     "text": [
      "(60000, 10) (10000, 10)\n"
     ]
    }
   ],
   "source": [
    "num_classes = 10\n",
    "y_train = keras.utils.to_categorical(y_train, num_classes)\n",
    "y_test = keras.utils.to_categorical(y_test, num_classes)\n",
    "print(y_train.shape,y_test.shape)"
   ]
  },
  {
   "cell_type": "code",
   "execution_count": 4,
   "metadata": {},
   "outputs": [
    {
     "name": "stdout",
     "output_type": "stream",
     "text": [
      "Model: \"sequential\"\n",
      "_________________________________________________________________\n",
      "Layer (type)                 Output Shape              Param #   \n",
      "=================================================================\n",
      "dense (Dense)                (None, 1024)              803840    \n",
      "_________________________________________________________________\n",
      "dense_1 (Dense)              (None, 256)               262400    \n",
      "_________________________________________________________________\n",
      "dense_2 (Dense)              (None, 32)                8224      \n",
      "_________________________________________________________________\n",
      "dense_3 (Dense)              (None, 10)                330       \n",
      "=================================================================\n",
      "Total params: 1,074,794\n",
      "Trainable params: 1,074,794\n",
      "Non-trainable params: 0\n",
      "_________________________________________________________________\n"
     ]
    }
   ],
   "source": [
    "model = keras.Sequential(\n",
    "    [\n",
    "        keras.Input(shape=(784)),\n",
    "        layers.Dense(1024, activation=\"relu\"),\n",
    "        layers.Dense(256, activation=\"relu\"),\n",
    "        layers.Dense(32, activation=\"relu\"),\n",
    "        layers.Dense(num_classes, activation=\"softmax\"),\n",
    "    ]\n",
    ")\n",
    "\n",
    "model.summary()"
   ]
  },
  {
   "cell_type": "code",
   "execution_count": 10,
   "metadata": {},
   "outputs": [
    {
     "name": "stdout",
     "output_type": "stream",
     "text": [
      "Epoch 1/15\n",
      "422/422 [==============================] - 7s 16ms/step - loss: 0.2454 - accuracy: 0.9279 - val_loss: 0.0952 - val_accuracy: 0.9728\n",
      "Epoch 2/15\n",
      "422/422 [==============================] - 9s 21ms/step - loss: 0.0844 - accuracy: 0.9734 - val_loss: 0.0800 - val_accuracy: 0.9752\n",
      "Epoch 3/15\n",
      "422/422 [==============================] - 10s 24ms/step - loss: 0.0523 - accuracy: 0.9833 - val_loss: 0.0735 - val_accuracy: 0.9788\n",
      "Epoch 4/15\n",
      "422/422 [==============================] - 11s 25ms/step - loss: 0.0389 - accuracy: 0.9873 - val_loss: 0.0700 - val_accuracy: 0.9800\n",
      "Epoch 5/15\n",
      "422/422 [==============================] - 10s 24ms/step - loss: 0.0285 - accuracy: 0.9908 - val_loss: 0.0621 - val_accuracy: 0.9817\n",
      "Epoch 6/15\n",
      "422/422 [==============================] - 10s 25ms/step - loss: 0.0245 - accuracy: 0.9922 - val_loss: 0.0808 - val_accuracy: 0.9775\n",
      "Epoch 7/15\n",
      "422/422 [==============================] - 9s 22ms/step - loss: 0.0200 - accuracy: 0.9932 - val_loss: 0.0701 - val_accuracy: 0.9807\n",
      "Epoch 8/15\n",
      "422/422 [==============================] - 10s 24ms/step - loss: 0.0193 - accuracy: 0.9935 - val_loss: 0.0760 - val_accuracy: 0.9828\n",
      "Epoch 9/15\n",
      "422/422 [==============================] - 11s 26ms/step - loss: 0.0159 - accuracy: 0.9947 - val_loss: 0.0743 - val_accuracy: 0.9830\n",
      "Epoch 10/15\n",
      "422/422 [==============================] - 12s 27ms/step - loss: 0.0132 - accuracy: 0.9956 - val_loss: 0.0850 - val_accuracy: 0.9803\n",
      "Epoch 11/15\n",
      "422/422 [==============================] - 10s 24ms/step - loss: 0.0157 - accuracy: 0.9947 - val_loss: 0.0848 - val_accuracy: 0.9813\n",
      "Epoch 12/15\n",
      "422/422 [==============================] - 12s 29ms/step - loss: 0.0107 - accuracy: 0.9965 - val_loss: 0.1073 - val_accuracy: 0.9773\n",
      "Epoch 13/15\n",
      "422/422 [==============================] - 12s 28ms/step - loss: 0.0119 - accuracy: 0.9964 - val_loss: 0.0675 - val_accuracy: 0.9848\n",
      "Epoch 14/15\n",
      "422/422 [==============================] - 9s 22ms/step - loss: 0.0090 - accuracy: 0.9970 - val_loss: 0.0899 - val_accuracy: 0.9810\n",
      "Epoch 15/15\n",
      "422/422 [==============================] - 8s 20ms/step - loss: 0.0109 - accuracy: 0.9965 - val_loss: 0.0769 - val_accuracy: 0.9847\n"
     ]
    },
    {
     "data": {
      "text/plain": [
       "<tensorflow.python.keras.callbacks.History at 0x7f2d74215cd0>"
      ]
     },
     "execution_count": 10,
     "metadata": {},
     "output_type": "execute_result"
    }
   ],
   "source": [
    "batch_size = 128\n",
    "epochs = 15\n",
    "\n",
    "model.compile(loss=\"categorical_crossentropy\", optimizer=\"adam\", metrics=[\"accuracy\"])\n",
    "\n",
    "model.fit(x_train, y_train, batch_size=batch_size, epochs=epochs, validation_split=0.1)"
   ]
  }
 ],
 "metadata": {
  "kernelspec": {
   "display_name": "Python (keras env)",
   "language": "python",
   "name": "kerasenv"
  },
  "language_info": {
   "codemirror_mode": {
    "name": "ipython",
    "version": 3
   },
   "file_extension": ".py",
   "mimetype": "text/x-python",
   "name": "python",
   "nbconvert_exporter": "python",
   "pygments_lexer": "ipython3",
   "version": "3.8.5"
  }
 },
 "nbformat": 4,
 "nbformat_minor": 4
}
